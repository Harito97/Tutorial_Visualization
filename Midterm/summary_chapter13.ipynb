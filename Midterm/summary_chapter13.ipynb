{
 "cells": [
  {
   "cell_type": "markdown",
   "metadata": {},
   "source": [
    "# Summary chapter 13"
   ]
  },
  {
   "cell_type": "markdown",
   "metadata": {},
   "source": [
    "**Tóm tắt nội dung chương 13: Thiết kế trực quan hóa hiệu quả**\n",
    "\n",
    "Chương 13 của nguồn cung cấp hướng dẫn chi tiết về cách thiết kế hình ảnh trực quan hóa dữ liệu hiệu quả, tập trung vào việc truyền tải thông tin chính xác, rõ ràng và thu hút người xem.\n",
    "\n",
    "**Các bước chính trong thiết kế trực quan hóa:**\n",
    "\n",
    "* **Ánh xạ dữ liệu trực quan:** Chọn cách thể hiện dữ liệu (ví dụ: màu sắc, kích thước, hình dạng) phù hợp với ngữ nghĩa của dữ liệu và mô hình tư duy của người dùng. Ví dụ, sử dụng hình ảnh hành tinh để biểu diễn khoảng cách từ hành tinh đến mặt trời.\n",
    "* **Lựa chọn và sửa đổi chế độ xem:** Cung cấp nhiều chế độ xem khác nhau (ví dụ: phóng to, thu nhỏ, lọc dữ liệu) để người dùng có thể khám phá dữ liệu từ nhiều góc độ.\n",
    "* **Mật độ thông tin:**  \n",
    "    * Tránh đồ họa dư thừa khi có quá ít thông tin.\n",
    "    * Tránh trình bày quá nhiều thông tin gây rối mắt bằng cách cho phép người dùng tùy chọn hiển thị/ẩn thông tin hoặc sử dụng nhiều màn hình.\n",
    "* **Chú thích, nhãn và chú giải:**  Cung cấp đầy đủ chú thích, nhãn, chú giải và lưới để người dùng hiểu rõ ý nghĩa của hình ảnh.\n",
    "* **Sử dụng màu sắc cẩn thận:**  \n",
    "    * Hạn chế số lượng màu sắc khi yêu cầu đánh giá tuyệt đối.\n",
    "    * Sử dụng kết hợp màu sắc và kích thước để truyền tải thông tin hiệu quả hơn.\n",
    "    * Sử dụng bảng màu phù hợp và chú giải màu sắc rõ ràng.\n",
    "* **Tầm quan trọng của tính thẩm mỹ:** Thiết kế hình ảnh trực quan cần hấp dẫn, cân đối, đơn giản và tập trung vào thông tin quan trọng.\n",
    "\n",
    "\n",
    "**Các vấn đề cần tránh:**\n",
    "\n",
    "* **Hình ảnh gây hiểu nhầm:** \n",
    "    * Loại bỏ dữ liệu thiên lệch (data scrubbing).\n",
    "    * Sử dụng tỷ lệ không cân bằng để phóng đại hoặc giảm thiểu xu hướng.\n",
    "    * Thay đổi phạm vi dữ liệu để đánh lừa người xem.\n",
    "    * Lạm dụng không gian chiều gây khó khăn trong việc đánh giá.\n",
    "* **Hình ảnh vô nghĩa:**  \n",
    "    * Kết hợp các tập dữ liệu không liên quan.\n",
    "    * So sánh dữ liệu không tương thích về mặt thời gian, không gian hoặc đơn vị.\n",
    "* **Thông tin bị che khuất:**  \n",
    "    * Sử dụng quá nhiều đồ họa phụ trợ (chart junk).\n",
    "* **Sử dụng dữ liệu đã qua xử lý:**  \n",
    "    * Chỉ hiển thị dữ liệu đã được làm mịn hoặc lấy mẫu lại mà không cung cấp dữ liệu gốc.\n",
    "\n",
    "**Nguyên tắc chung:**\n",
    "\n",
    "* Luôn cho phép người dùng truy cập dữ liệu gốc.\n",
    "* Ưu tiên sử dụng so sánh tương đối thay vì so sánh tuyệt đối.\n",
    "* Thực hiện đánh giá khả năng sử dụng với người dùng mục tiêu.\n",
    "\n",
    "**Lưu ý:**  Phần tóm tắt này chỉ dựa trên nội dung chương 13 của nguồn cung cấp. \n"
   ]
  }
 ],
 "metadata": {
  "language_info": {
   "name": "python"
  }
 },
 "nbformat": 4,
 "nbformat_minor": 2
}
